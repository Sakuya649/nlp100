{
  "nbformat": 4,
  "nbformat_minor": 0,
  "metadata": {
    "colab": {
      "name": "nlp100_11.ipynb",
      "provenance": [],
      "collapsed_sections": [],
      "mount_file_id": "1Ldk34-F6o4tsXaK_cV7_fkkF7IhnGkYs",
      "authorship_tag": "ABX9TyNMQH39jS4LXremmXF6+Wkm"
    },
    "kernelspec": {
      "name": "python3",
      "display_name": "Python 3"
    },
    "language_info": {
      "name": "python"
    }
  },
  "cells": [
    {
      "cell_type": "code",
      "execution_count": null,
      "metadata": {
        "id": "CyA0eOBGwOh4"
      },
      "outputs": [],
      "source": [
        "filename = \"/content/drive/MyDrive/Colab Notebooks/NLP100/chap02/data/popular-names.txt\"\n",
        "with open(filename) as f:\n",
        "  f_read = f.read()\n",
        "txt = f_read.replace(\"\\t\", \" \")\n",
        "with open(\"/content/drive/MyDrive/Colab Notebooks/NLP100/chap02/data/popular-names_space.txt\", \"w\") as wf:\n",
        "  wf.write(txt)"
      ]
    }
  ]
}