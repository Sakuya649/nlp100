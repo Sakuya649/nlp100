{
  "nbformat": 4,
  "nbformat_minor": 0,
  "metadata": {
    "colab": {
      "name": "nlp100_12.ipynb",
      "provenance": [],
      "mount_file_id": "1DcGm5TF6l-Uo-i0udHnJXPsjfWZSyBT_",
      "authorship_tag": "ABX9TyMoX7vrPpM012HrINHwtd3s"
    },
    "kernelspec": {
      "name": "python3",
      "display_name": "Python 3"
    },
    "language_info": {
      "name": "python"
    }
  },
  "cells": [
    {
      "cell_type": "code",
      "execution_count": 10,
      "metadata": {
        "id": "Z5JGAIYRSeRK"
      },
      "outputs": [],
      "source": [
        "import pandas as pd\n",
        "\n",
        "df = pd.read_table(\"/content/drive/MyDrive/Colab Notebooks/NLP100/chap02/data/popular-names_space.txt\", header=None, sep=\" \", names=[\"name\", \"sex\", \"number\", \"year\"])\n",
        "\n",
        "col1 = df[\"name\"]\n",
        "col1.to_csv('/content/drive/MyDrive/Colab Notebooks/NLP100/chap02/data/col1.txt', index=False, header=None)\n",
        "\n",
        "col2 = df[\"sex\"]\n",
        "col2.to_csv(\"/content/drive/MyDrive/Colab Notebooks/NLP100/chap02/data/col2.txt\", index=False, header=None)"
      ]
    }
  ]
}