{
  "nbformat": 4,
  "nbformat_minor": 0,
  "metadata": {
    "colab": {
      "name": "nlp100_12.ipynb",
      "provenance": [],
      "mount_file_id": "1DcGm5TF6l-Uo-i0udHnJXPsjfWZSyBT_",
      "authorship_tag": "ABX9TyPF9JPHLCXLb5S1aOM2zZV0"
    },
    "kernelspec": {
      "name": "python3",
      "display_name": "Python 3"
    },
    "language_info": {
      "name": "python"
    }
  },
  "cells": [
    {
      "cell_type": "code",
      "execution_count": 1,
      "metadata": {
        "id": "Z5JGAIYRSeRK"
      },
      "outputs": [],
      "source": [
        "with open(\"/content/drive/MyDrive/Colab Notebooks/NLP100/chap02/data/popular-names_space.txt\") as f:\n",
        "  lines = f.readlines()\n",
        "for i in range(len(lines)):\n",
        "  with open(\"/content/drive/MyDrive/Colab Notebooks/NLP100/chap02/data/col/col\" + str(i+1) + \".txt\", \"w\") as wf:\n",
        "    wf.write(lines[i].split()[0])"
      ]
    }
  ]
}