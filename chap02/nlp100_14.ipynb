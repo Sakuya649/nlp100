{
  "nbformat": 4,
  "nbformat_minor": 0,
  "metadata": {
    "colab": {
      "name": "nlp100_14.ipynb",
      "provenance": [],
      "mount_file_id": "1q6pidzn3tawuPyfuI0ITTgtKkf7OjJDU",
      "authorship_tag": "ABX9TyOtP2ZXtPm8JK1Ach67jCJu"
    },
    "kernelspec": {
      "name": "python3",
      "display_name": "Python 3"
    },
    "language_info": {
      "name": "python"
    }
  },
  "cells": [
    {
      "cell_type": "code",
      "execution_count": 4,
      "metadata": {
        "colab": {
          "base_uri": "https://localhost:8080/"
        },
        "id": "Beb8gfXDPcUP",
        "outputId": "67900ae7-9b9b-4de5-9374-d0969818b001"
      },
      "outputs": [
        {
          "output_type": "stream",
          "name": "stdout",
          "text": [
            "5\n",
            "        name sex  number  year\n",
            "0       Mary   F    7065  1880\n",
            "1       Anna   F    2604  1880\n",
            "2       Emma   F    2003  1880\n",
            "3  Elizabeth   F    1939  1880\n",
            "4     Minnie   F    1746  1880\n"
          ]
        }
      ],
      "source": [
        "import pandas as pd\n",
        "df = pd.read_table(\"/content/drive/MyDrive/Colab Notebooks/NLP100/chap02/data/popular-names.txt\", header=None, sep=\"\\t\", names=[\"name\", \"sex\", \"number\", \"year\"])\n",
        "n = int(input())\n",
        "print(df.head(n))"
      ]
    }
  ]
}