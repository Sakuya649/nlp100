{
  "nbformat": 4,
  "nbformat_minor": 0,
  "metadata": {
    "colab": {
      "name": "nlp100_10.ipynb",
      "provenance": [],
      "collapsed_sections": [],
      "mount_file_id": "19pTqFiM0FGS_MVHP7ehZIZyNXWwDLJPk",
      "authorship_tag": "ABX9TyPoqEr6u1PDCTPGB2D23QN1"
    },
    "kernelspec": {
      "name": "python3",
      "display_name": "Python 3"
    },
    "language_info": {
      "name": "python"
    }
  },
  "cells": [
    {
      "cell_type": "code",
      "execution_count": 14,
      "metadata": {
        "colab": {
          "base_uri": "https://localhost:8080/"
        },
        "id": "lSUGmw9etbv3",
        "outputId": "84c70c9f-349a-4a56-df04-62833321add7"
      },
      "outputs": [
        {
          "output_type": "stream",
          "name": "stdout",
          "text": [
            "2780\n"
          ]
        }
      ],
      "source": [
        "filename = \"/content/drive/MyDrive/Colab Notebooks/NLP100/chap02/popular-names.txt\"\n",
        "with open(filename) as f:\n",
        "  print(len(f.readlines()))"
      ]
    },
    {
      "cell_type": "code",
      "source": [
        "#参考\n",
        "import pandas as pd\n",
        "df = pd.read_table(\"/content/drive/MyDrive/Colab Notebooks/NLP100/chap02/popular-names.txt\", header=None, sep=\"\\t\", names=[\"name\", \"sex\", \"number\", \"year\"])\n",
        "print(df)\n",
        "print(len(df))"
      ],
      "metadata": {
        "colab": {
          "base_uri": "https://localhost:8080/"
        },
        "id": "B6KYJePpu1Tv",
        "outputId": "56424c8e-0803-4008-8751-16981dc183a6"
      },
      "execution_count": 15,
      "outputs": [
        {
          "output_type": "stream",
          "name": "stdout",
          "text": [
            "           name sex  number  year\n",
            "0          Mary   F    7065  1880\n",
            "1          Anna   F    2604  1880\n",
            "2          Emma   F    2003  1880\n",
            "3     Elizabeth   F    1939  1880\n",
            "4        Minnie   F    1746  1880\n",
            "...         ...  ..     ...   ...\n",
            "2775   Benjamin   M   13381  2018\n",
            "2776     Elijah   M   12886  2018\n",
            "2777      Lucas   M   12585  2018\n",
            "2778      Mason   M   12435  2018\n",
            "2779      Logan   M   12352  2018\n",
            "\n",
            "[2780 rows x 4 columns]\n",
            "2780\n"
          ]
        }
      ]
    },
    {
      "cell_type": "code",
      "source": [
        "!wc -l \"/content/drive/MyDrive/Colab Notebooks/NLP100/chap02/popular-names.txt\""
      ],
      "metadata": {
        "colab": {
          "base_uri": "https://localhost:8080/"
        },
        "id": "HZTtWKY7vcGf",
        "outputId": "8cca6ab7-9c9e-4627-bf72-415afa76ea7a"
      },
      "execution_count": 17,
      "outputs": [
        {
          "output_type": "stream",
          "name": "stdout",
          "text": [
            "2780 /content/drive/MyDrive/Colab Notebooks/NLP100/chap02/popular-names.txt\n"
          ]
        }
      ]
    }
  ]
}