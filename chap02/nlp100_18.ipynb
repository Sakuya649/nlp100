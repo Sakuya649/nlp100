{
  "nbformat": 4,
  "nbformat_minor": 0,
  "metadata": {
    "colab": {
      "name": "nlp100_18.ipynb",
      "provenance": [],
      "mount_file_id": "16XtW7ou-dJKH_K_XGIl6_Fo9REF4kyja",
      "authorship_tag": "ABX9TyNKZ9souxg7Vam6D+3Je1G6"
    },
    "kernelspec": {
      "name": "python3",
      "display_name": "Python 3"
    },
    "language_info": {
      "name": "python"
    }
  },
  "cells": [
    {
      "cell_type": "code",
      "execution_count": 4,
      "metadata": {
        "colab": {
          "base_uri": "https://localhost:8080/"
        },
        "id": "l4iBejw6Q2Cg",
        "outputId": "71e26422-ccbd-4ba9-b2cb-e89a17dc5b90"
      },
      "outputs": [
        {
          "output_type": "stream",
          "name": "stdout",
          "text": [
            "         name sex  number  year\n",
            "1340    Linda   F   99689  1947\n",
            "1360    Linda   F   96211  1948\n",
            "1350    James   M   94757  1947\n",
            "1550  Michael   M   92704  1957\n",
            "1351   Robert   M   91640  1947\n",
            "...       ...  ..     ...   ...\n",
            "27      Annie   F    1326  1881\n",
            "28     Bertha   F    1324  1881\n",
            "8      Bertha   F    1320  1880\n",
            "29      Alice   F    1308  1881\n",
            "9       Sarah   F    1288  1880\n",
            "\n",
            "[2780 rows x 4 columns]\n"
          ]
        }
      ],
      "source": [
        "import pandas as pd\n",
        "df = pd.read_table(\"/content/drive/MyDrive/Colab Notebooks/NLP100/chap02/data/popular-names.txt\", header=None, sep=\"\\t\", names=[\"name\", \"sex\", \"number\", \"year\"])\n",
        "#dfのままソートする場合はsort_valuesの引数にinplace=Trueを入れる\n",
        "sorted_df = df.sort_values(\"number\", ascending=False)\n",
        "print(sorted_df)"
      ]
    }
  ]
}