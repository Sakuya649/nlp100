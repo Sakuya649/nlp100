{
  "nbformat": 4,
  "nbformat_minor": 0,
  "metadata": {
    "colab": {
      "name": "nlp100_16.ipynb",
      "provenance": [],
      "authorship_tag": "ABX9TyM2ZLf+z0i3ryQeat0Rbuax"
    },
    "kernelspec": {
      "name": "python3",
      "display_name": "Python 3"
    },
    "language_info": {
      "name": "python"
    }
  },
  "cells": [
    {
      "cell_type": "code",
      "execution_count": 15,
      "metadata": {
        "colab": {
          "base_uri": "https://localhost:8080/"
        },
        "id": "6WV9ku-DCxq3",
        "outputId": "ff71050b-0474-4bd2-9ae5-cf45233e569b"
      },
      "outputs": [
        {
          "output_type": "stream",
          "name": "stdout",
          "text": [
            "10\n",
            "        name sex  number  year sp\n",
            "0       Mary   F    7065  1880  0\n",
            "1       Anna   F    2604  1880  0\n",
            "2       Emma   F    2003  1880  0\n",
            "3  Elizabeth   F    1939  1880  0\n",
            "4     Minnie   F    1746  1880  0\n"
          ]
        }
      ],
      "source": [
        "import pandas as pd\n",
        "n = int(input())\n",
        "df = pd.read_table(\"/content/drive/MyDrive/Colab Notebooks/NLP100/chap02/data/popular-names.txt\", header=None, sep=\"\\t\", names=[\"name\", \"sex\", \"number\", \"year\"])\n",
        "df_cut = pd.qcut(df.index, n, labels=[i for i in range(n)])\n",
        "df_cut = pd.concat([df, pd.Series(df_cut, name='sp')], axis=1)\n",
        "print(df_cut.head())"
      ]
    }
  ]
}