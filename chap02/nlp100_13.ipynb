{
  "nbformat": 4,
  "nbformat_minor": 0,
  "metadata": {
    "colab": {
      "name": "nlp100_13.ipynb",
      "provenance": [],
      "mount_file_id": "11GTV0GgqqYlDNMEkmnVaH4S_b1Ot6vSh",
      "authorship_tag": "ABX9TyPZqyot5B7DQJXlLvaThmIG"
    },
    "kernelspec": {
      "name": "python3",
      "display_name": "Python 3"
    },
    "language_info": {
      "name": "python"
    }
  },
  "cells": [
    {
      "cell_type": "code",
      "execution_count": 6,
      "metadata": {
        "id": "W0iBB_qwMqL3"
      },
      "outputs": [],
      "source": [
        "import pandas as pd\n",
        "col1 = pd.read_table(\"/content/drive/MyDrive/Colab Notebooks/NLP100/chap02/data/col1.txt\", header=None, names=[\"name\"])\n",
        "col2 = pd.read_table(\"/content/drive/MyDrive/Colab Notebooks/NLP100/chap02/data/col2.txt\", header=None, names=[\"sex\"])\n",
        "merge_col1_2 = pd.concat([col1, col2], axis=1)\n",
        "merge_col1_2.to_csv(\"/content/drive/MyDrive/Colab Notebooks/NLP100/chap02/data/merge_col1_2.txt\", sep=\"\\t\", index=False, header=None)"
      ]
    }
  ]
}