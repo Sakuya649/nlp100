{
  "nbformat": 4,
  "nbformat_minor": 0,
  "metadata": {
    "colab": {
      "name": "nlp100_19.ipynb",
      "provenance": [],
      "mount_file_id": "1HjPGa50q2CwTp_l4H2rVADwPggcVoQ6u",
      "authorship_tag": "ABX9TyN6TrLjmCjvO0E0Sq9XzMwD"
    },
    "kernelspec": {
      "name": "python3",
      "display_name": "Python 3"
    },
    "language_info": {
      "name": "python"
    }
  },
  "cells": [
    {
      "cell_type": "code",
      "execution_count": 1,
      "metadata": {
        "colab": {
          "base_uri": "https://localhost:8080/"
        },
        "id": "24HFP54F3fTo",
        "outputId": "90d76e6b-4375-43b3-b74a-fc1cb3290050"
      },
      "outputs": [
        {
          "output_type": "stream",
          "name": "stdout",
          "text": [
            "James      118\n",
            "William    111\n",
            "Robert     108\n",
            "John       108\n",
            "Mary        92\n",
            "          ... \n",
            "Scott        1\n",
            "Rachel       1\n",
            "Kelly        1\n",
            "Crystal      1\n",
            "Lucas        1\n",
            "Name: name, Length: 136, dtype: int64\n"
          ]
        }
      ],
      "source": [
        "import pandas as pd\n",
        "df = pd.read_table(\"/content/drive/MyDrive/Colab Notebooks/NLP100/chap02/data/popular-names.txt\", header=None, sep=\"\\t\", names=[\"name\", \"sex\", \"number\", \"year\"])\n",
        "print(df[\"name\"].value_counts())"
      ]
    }
  ]
}