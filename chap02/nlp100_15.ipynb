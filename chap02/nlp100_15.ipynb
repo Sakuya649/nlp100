{
  "nbformat": 4,
  "nbformat_minor": 0,
  "metadata": {
    "colab": {
      "name": "nlp100_15.ipynb",
      "provenance": [],
      "mount_file_id": "1lIBzQ7KcCPkfyzEEF4-LGOrGom5TaNLz",
      "authorship_tag": "ABX9TyPlLsQujfgMqlhqLcTkSyku"
    },
    "kernelspec": {
      "name": "python3",
      "display_name": "Python 3"
    },
    "language_info": {
      "name": "python"
    }
  },
  "cells": [
    {
      "cell_type": "code",
      "execution_count": 1,
      "metadata": {
        "colab": {
          "base_uri": "https://localhost:8080/"
        },
        "id": "-e8sCd4fQVLW",
        "outputId": "024d9c48-1c35-4c40-f6c5-878790bcf831"
      },
      "outputs": [
        {
          "output_type": "stream",
          "name": "stdout",
          "text": [
            "5\n",
            "          name sex  number  year\n",
            "2775  Benjamin   M   13381  2018\n",
            "2776    Elijah   M   12886  2018\n",
            "2777     Lucas   M   12585  2018\n",
            "2778     Mason   M   12435  2018\n",
            "2779     Logan   M   12352  2018\n"
          ]
        }
      ],
      "source": [
        "import pandas as pd\n",
        "df = pd.read_table(\"/content/drive/MyDrive/Colab Notebooks/NLP100/chap02/data/popular-names.txt\", header=None, sep=\"\\t\", names=[\"name\", \"sex\", \"number\", \"year\"])\n",
        "n = int(input())\n",
        "print(df.tail(n))"
      ]
    }
  ]
}