{
  "nbformat": 4,
  "nbformat_minor": 0,
  "metadata": {
    "colab": {
      "name": "nlp100_17.ipynb",
      "provenance": [],
      "mount_file_id": "1xTSJdCvEpXKBBYV1fzbJ5U6FqLAgRPdY",
      "authorship_tag": "ABX9TyOaHQH+rcDTRzNGKVWhvuf3"
    },
    "kernelspec": {
      "name": "python3",
      "display_name": "Python 3"
    },
    "language_info": {
      "name": "python"
    }
  },
  "cells": [
    {
      "cell_type": "code",
      "execution_count": 4,
      "metadata": {
        "colab": {
          "base_uri": "https://localhost:8080/"
        },
        "id": "gOPxGdZPVgLx",
        "outputId": "fd16057d-daa7-4d48-d20c-30d7c3a8d8e3"
      },
      "outputs": [
        {
          "output_type": "stream",
          "name": "stdout",
          "text": [
            "136\n"
          ]
        }
      ],
      "source": [
        "import pandas as pd\n",
        "df = pd.read_table(\"/content/drive/MyDrive/Colab Notebooks/NLP100/chap02/data/popular-names.txt\", header=None, sep=\"\\t\", names=[\"name\", \"sex\", \"number\", \"year\"])\n",
        "print(len(df.drop_duplicates(subset=\"name\")))"
      ]
    }
  ]
}