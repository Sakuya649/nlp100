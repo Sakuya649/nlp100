{
  "nbformat": 4,
  "nbformat_minor": 0,
  "metadata": {
    "colab": {
      "name": "nlp100_22.ipynb",
      "provenance": [],
      "mount_file_id": "1fZQN2ET9aN0HGWiwP22hHt_KPsePAGft",
      "authorship_tag": "ABX9TyMQyOy6biD3G+5H1wy+pq9B"
    },
    "kernelspec": {
      "name": "python3",
      "display_name": "Python 3"
    },
    "language_info": {
      "name": "python"
    }
  },
  "cells": [
    {
      "cell_type": "code",
      "execution_count": 9,
      "metadata": {
        "colab": {
          "base_uri": "https://localhost:8080/"
        },
        "id": "9Pn2wWav3N3u",
        "outputId": "a111f7a7-5d65-49cd-b63a-919a988e878f"
      },
      "outputs": [
        {
          "output_type": "stream",
          "name": "stdout",
          "text": [
            "United Kingdom\n",
            "British Islands\n",
            "Countries in Europe\n",
            "English-speaking countries and territories\n",
            "G7 nations\n",
            "Group of Eight nations\n",
            "G20 nations\n",
            "Island countries\n",
            "Northern European countries\n",
            "Former member states of the European Union\n",
            "Member states of NATO\n",
            "Member states of the Commonwealth of Nations\n",
            "Member states of the Council of Europe\n",
            "Member states of the Union for the Mediterranean\n",
            "Member states of the United Nations\n",
            "Priority articles for attention after Brexit\n",
            "Western European countries\n"
          ]
        }
      ],
      "source": [
        "import json\n",
        "import re\n",
        "\n",
        "filename = \"/content/drive/MyDrive/Colab Notebooks/NLP100/chap03/data/enwiki-country.json\"\n",
        "with open(filename, mode='r') as f:\n",
        "  for line in f:\n",
        "    line = json.loads(line)\n",
        "    if line[\"title\"] == \"United Kingdom\":\n",
        "      text = line[\"text\"]\n",
        "      break\n",
        "pattern = r'^.*\\[\\[Category:(.*?)(?:\\|.*)?\\]\\].*$'\n",
        "result = '\\n'.join(re.findall(pattern, text, re.MULTILINE))\n",
        "print(result)"
      ]
    }
  ]
}