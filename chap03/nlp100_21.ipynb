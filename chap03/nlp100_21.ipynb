{
  "nbformat": 4,
  "nbformat_minor": 0,
  "metadata": {
    "colab": {
      "name": "nlp100_21.ipynb",
      "provenance": [],
      "mount_file_id": "1KvwiQp1ayFidUVnjF2W6i1yfgOxqkwO1",
      "authorship_tag": "ABX9TyPc+3Jz0WP09C2BmooeDhGG"
    },
    "kernelspec": {
      "name": "python3",
      "display_name": "Python 3"
    },
    "language_info": {
      "name": "python"
    }
  },
  "cells": [
    {
      "cell_type": "code",
      "execution_count": 8,
      "metadata": {
        "colab": {
          "base_uri": "https://localhost:8080/"
        },
        "id": "oaHJmyl0mjy3",
        "outputId": "882b9abd-6e2b-498e-be69-4fc6a801231f"
      },
      "outputs": [
        {
          "output_type": "stream",
          "name": "stdout",
          "text": [
            "[[Category:United Kingdom| ]]\n",
            "[[Category:British Islands]]\n",
            "[[Category:Countries in Europe]]\n",
            "[[Category:English-speaking countries and territories]]\n",
            "[[Category:G7 nations]]\n",
            "[[Category:Group of Eight nations]]\n",
            "[[Category:G20 nations]]\n",
            "[[Category:Island countries]]\n",
            "[[Category:Northern European countries]]\n",
            "[[Category:Former member states of the European Union]]\n",
            "[[Category:Member states of NATO]]\n",
            "[[Category:Member states of the Commonwealth of Nations]]\n",
            "[[Category:Member states of the Council of Europe]]\n",
            "[[Category:Member states of the Union for the Mediterranean]]\n",
            "[[Category:Member states of the United Nations]]\n",
            "[[Category:Priority articles for attention after Brexit]]\n",
            "[[Category:Western European countries]]\n"
          ]
        }
      ],
      "source": [
        "import json\n",
        "import re\n",
        "\n",
        "filename = \"/content/drive/MyDrive/Colab Notebooks/NLP100/chap03/data/enwiki-country.json\"\n",
        "with open(filename, mode='r') as f:\n",
        "  for line in f:\n",
        "    line = json.loads(line)\n",
        "    if line[\"title\"] == \"United Kingdom\":\n",
        "      text = line[\"text\"]\n",
        "      break\n",
        "pattern = r'^(.*\\[\\[Category:.*\\]\\].*)$'\n",
        "result = '\\n'.join(re.findall(pattern, text, re.MULTILINE))\n",
        "print(result)"
      ]
    }
  ]
}