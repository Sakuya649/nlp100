{
  "nbformat": 4,
  "nbformat_minor": 0,
  "metadata": {
    "colab": {
      "name": "nlp100_23.ipynb",
      "provenance": [],
      "mount_file_id": "1eb5YrEBbWPmqLXzDxs_P8obOQNeAyRoE",
      "authorship_tag": "ABX9TyNvEZXpmdd9uljOhPoYVjro"
    },
    "kernelspec": {
      "name": "python3",
      "display_name": "Python 3"
    },
    "language_info": {
      "name": "python"
    }
  },
  "cells": [
    {
      "cell_type": "code",
      "execution_count": 5,
      "metadata": {
        "colab": {
          "base_uri": "https://localhost:8080/"
        },
        "id": "cQT9ghFfZCF9",
        "outputId": "895adc42-5e7c-4554-d1d2-b8578f26edf0"
      },
      "outputs": [
        {
          "output_type": "stream",
          "name": "stdout",
          "text": [
            "Etymology and terminology:1\n",
            "History:1\n",
            "Background:2\n",
            "Treaty of Union:2\n",
            "From the union with Ireland to the end of the First World War:2\n",
            "Between the World Wars:2\n",
            "Since the Second World War:2\n",
            "Geography:1\n",
            "Climate:2\n",
            "Administrative divisions:2\n",
            "Dependencies:1\n",
            "Politics:1\n",
            "Government:2\n",
            "Devolved administrations:2\n",
            "Law and criminal justice:2\n",
            "Foreign relations:2\n",
            "Military:2\n",
            "Economy:1\n",
            "Overview:2\n",
            "Science and technology:2\n",
            "Transport:2\n",
            "Energy:2\n",
            "Water supply and sanitation:2\n",
            "Demographics:1\n",
            "Ethnic groups:2\n",
            "Languages:2\n",
            "Religion:2\n",
            "Migration:2\n",
            "Education:2\n",
            "Health:2\n",
            "Culture:1\n",
            "Literature:2\n",
            "Music:2\n",
            "Visual art:2\n",
            "Cinema:2\n",
            "Cuisine:2\n",
            "Media:2\n",
            "Philosophy:2\n",
            "Sport:2\n",
            "Symbols:2\n",
            "Stereotypes:2\n",
            "Historiography:1\n",
            "See also:1\n",
            "Notes:1\n",
            "References:1\n",
            "External links:1\n"
          ]
        }
      ],
      "source": [
        "import json\n",
        "import re\n",
        "\n",
        "filename = \"/content/drive/MyDrive/Colab Notebooks/NLP100/chap03/data/enwiki-country.json\"\n",
        "with open(filename, mode='r') as f:\n",
        "  for line in f:\n",
        "    line = json.loads(line)\n",
        "    if line[\"title\"] == \"United Kingdom\":\n",
        "      text = line[\"text\"]\n",
        "      break\n",
        "pattern = r'^(\\={2,})\\s*(.+?)\\s*(\\={2,}).*$'\n",
        "result = '\\n'.join(i[1] + ':' + str(len(i[0]) - 1) for i in re.findall(pattern, text, re.MULTILINE))\n",
        "print(result)"
      ]
    }
  ]
}