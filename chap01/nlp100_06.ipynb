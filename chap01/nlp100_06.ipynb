{
  "nbformat": 4,
  "nbformat_minor": 0,
  "metadata": {
    "colab": {
      "name": "nlp100_06.ipynb",
      "provenance": [],
      "authorship_tag": "ABX9TyMk0y4CnAFQR0GvFWFQTLrZ"
    },
    "kernelspec": {
      "name": "python3",
      "display_name": "Python 3"
    },
    "language_info": {
      "name": "python"
    }
  },
  "cells": [
    {
      "cell_type": "code",
      "execution_count": 7,
      "metadata": {
        "colab": {
          "base_uri": "https://localhost:8080/"
        },
        "id": "vZr33cXjMb1I",
        "outputId": "dee11742-5553-42cc-cd3b-6e3c007df3c2"
      },
      "outputs": [
        {
          "output_type": "stream",
          "name": "stdout",
          "text": [
            "$X$:  {('d', 'i'), ('s', 'e'), ('r', 'a'), ('a', 'd'), ('a', 'r'), ('p', 'a'), ('i', 's'), ('a', 'p')}\n",
            "$Y$:  {('a', 'g'), ('r', 'a'), ('a', 'r'), ('p', 'a'), ('p', 'h'), ('a', 'p'), ('g', 'r')}\n",
            "union:  {('d', 'i'), ('s', 'e'), ('a', 'g'), ('r', 'a'), ('a', 'd'), ('a', 'r'), ('p', 'a'), ('p', 'h'), ('i', 's'), ('a', 'p'), ('g', 'r')}\n",
            "intersection:  {('a', 'p'), ('r', 'a'), ('p', 'a'), ('a', 'r')}\n",
            "difference:  {('a', 'd'), ('d', 'i'), ('s', 'e'), ('i', 's')}\n",
            "“se” is included in the $X$: True\n",
            "“se” is included in the $Y$: False\n"
          ]
        }
      ],
      "source": [
        "def create_ngram(n, str_list):\n",
        "  ans = list(zip(*[str_list[i:] for i in range(n)]))\n",
        "  return ans\n",
        "\n",
        "s1 = \"paraparaparadise\"\n",
        "s2 = \"paragraph\"\n",
        "x = set(create_ngram(2, s1))\n",
        "y = set(create_ngram(2, s2))\n",
        "\n",
        "print(\"$X$: \", x)\n",
        "print(\"$Y$: \", y)\n",
        "print(\"union: \", x|y)\n",
        "print(\"intersection: \", x&y)\n",
        "print(\"difference: \", x-y)\n",
        "print(\"“se” is included in the $X$:\", ('s', 'e') in x)\n",
        "print(\"“se” is included in the $Y$:\", ('s', 'e') in y)"
      ]
    }
  ]
}