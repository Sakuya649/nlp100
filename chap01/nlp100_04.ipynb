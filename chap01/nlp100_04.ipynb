{
  "nbformat": 4,
  "nbformat_minor": 0,
  "metadata": {
    "colab": {
      "name": "nlp100_04.ipynb",
      "provenance": [],
      "authorship_tag": "ABX9TyP8mjeqVd05x5/rzITFcImx"
    },
    "kernelspec": {
      "name": "python3",
      "display_name": "Python 3"
    },
    "language_info": {
      "name": "python"
    }
  },
  "cells": [
    {
      "cell_type": "code",
      "execution_count": 2,
      "metadata": {
        "colab": {
          "base_uri": "https://localhost:8080/"
        },
        "id": "YuLiSQGBufx6",
        "outputId": "2656ffdf-6955-4f72-df71-a20610d77b66"
      },
      "outputs": [
        {
          "output_type": "stream",
          "name": "stdout",
          "text": [
            "{'H': 1, 'He': 2, 'Li': 3, 'Be': 4, 'B': 5, 'C': 6, 'N': 7, 'O': 8, 'F': 9, 'Ne': 10, 'Na': 11, 'Mi': 12, 'Al': 13, 'Si': 14, 'P': 15, 'S': 16, 'Cl': 17, 'Ar': 18, 'K': 19, 'Ca': 20}\n"
          ]
        }
      ],
      "source": [
        "s = \"Hi He Lied Because Boron Could Not Oxidize Fluorine. New Nations Might Also Sign Peace Security Clause. Arthur King Can\"\n",
        "words = s.split()\n",
        "num = [1, 5, 6, 7, 8, 9, 15, 16, 19]\n",
        "ans = {}\n",
        "for i in range(len(words)):\n",
        "  if i+1 in num:\n",
        "    ans[words[i][:1]] = i+1\n",
        "  else:\n",
        "    ans[words[i][:2]] = i+1\n",
        "print(ans)"
      ]
    }
  ]
}