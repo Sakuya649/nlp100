{
  "nbformat": 4,
  "nbformat_minor": 0,
  "metadata": {
    "colab": {
      "name": "nlp100_03.ipynb",
      "provenance": [],
      "authorship_tag": "ABX9TyMNmRXtMcTejn5+SVfTdbig"
    },
    "kernelspec": {
      "name": "python3",
      "display_name": "Python 3"
    },
    "language_info": {
      "name": "python"
    }
  },
  "cells": [
    {
      "cell_type": "code",
      "execution_count": 3,
      "metadata": {
        "colab": {
          "base_uri": "https://localhost:8080/"
        },
        "id": "gX0KEl60G-de",
        "outputId": "4bbf09f1-2547-4d22-addc-5dee46078c90"
      },
      "outputs": [
        {
          "output_type": "stream",
          "name": "stdout",
          "text": [
            "[3, 1, 4, 1, 5, 9, 2, 6, 5, 3, 5, 8, 9, 7, 9]\n"
          ]
        }
      ],
      "source": [
        "import re\n",
        "s = \"Now I need a drink, alcoholic of course, after the heavy lectures involving quantum mechanics.\"\n",
        "s = re.sub('[,\\.]', '', s)\n",
        "ans = []\n",
        "words = s.split()\n",
        "for w in words:\n",
        "  ans.append(len(w))\n",
        "print(ans)"
      ]
    }
  ]
}