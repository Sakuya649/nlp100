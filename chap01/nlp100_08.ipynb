{
  "nbformat": 4,
  "nbformat_minor": 0,
  "metadata": {
    "colab": {
      "name": "nlp100_08.ipynb",
      "provenance": [],
      "authorship_tag": "ABX9TyP9dO2U3EWX97VobEzcGWkL"
    },
    "kernelspec": {
      "name": "python3",
      "display_name": "Python 3"
    },
    "language_info": {
      "name": "python"
    }
  },
  "cells": [
    {
      "cell_type": "code",
      "execution_count": 6,
      "metadata": {
        "colab": {
          "base_uri": "https://localhost:8080/"
        },
        "id": "6OhscBpRV0Rg",
        "outputId": "9683989a-306f-4ab3-fca9-6ad52cbae08c"
      },
      "outputs": [
        {
          "output_type": "stream",
          "name": "stdout",
          "text": [
            "Uhv gsrh ufmxgrlm gl xrksvi zmw wvxrksvi zm Emtorhs nvhhztv.\n",
            "Use this function to cipher and decipher an English message.\n"
          ]
        }
      ],
      "source": [
        "def cipher(str):\n",
        "  ans = \"\"\n",
        "  for s in str:\n",
        "    if s.islower():\n",
        "      ans += chr(219-ord(s))\n",
        "    else:\n",
        "      ans += s\n",
        "  return ans\n",
        "\n",
        "text = cipher(\"Use this function to cipher and decipher an English message.\")\n",
        "print(text)\n",
        "print(cipher(text))"
      ]
    }
  ]
}