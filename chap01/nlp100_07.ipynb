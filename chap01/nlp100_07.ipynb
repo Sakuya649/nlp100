{
  "nbformat": 4,
  "nbformat_minor": 0,
  "metadata": {
    "colab": {
      "name": "nlp100_07.ipynb",
      "provenance": [],
      "authorship_tag": "ABX9TyNEpSFFHuEeG5uhCgxY2+Xx"
    },
    "kernelspec": {
      "name": "python3",
      "display_name": "Python 3"
    },
    "language_info": {
      "name": "python"
    }
  },
  "cells": [
    {
      "cell_type": "code",
      "execution_count": 9,
      "metadata": {
        "colab": {
          "base_uri": "https://localhost:8080/"
        },
        "id": "6-xUDWcXSBNl",
        "outputId": "553151dc-202c-4060-e551-40f5c2e21e33"
      },
      "outputs": [
        {
          "output_type": "stream",
          "name": "stdout",
          "text": [
            "temperature is 22.4 at 12\n"
          ]
        }
      ],
      "source": [
        "def generate_sentence(x, y, z):\n",
        "  return f'{y} is {z} at {x}'\n",
        "print(generate_sentence(12, \"temperature\", 22.4))"
      ]
    }
  ]
}