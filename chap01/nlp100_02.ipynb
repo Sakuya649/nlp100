{
  "nbformat": 4,
  "nbformat_minor": 0,
  "metadata": {
    "colab": {
      "name": "nlp100_02.ipynb",
      "provenance": [],
      "authorship_tag": "ABX9TyN9r606PQfuimY61ut9aQi5"
    },
    "kernelspec": {
      "name": "python3",
      "display_name": "Python 3"
    },
    "language_info": {
      "name": "python"
    }
  },
  "cells": [
    {
      "cell_type": "code",
      "execution_count": 2,
      "metadata": {
        "colab": {
          "base_uri": "https://localhost:8080/"
        },
        "id": "I1cgBTyaGC97",
        "outputId": "04a949e4-71e1-4ee3-a3d6-0ff6c1633574"
      },
      "outputs": [
        {
          "output_type": "stream",
          "name": "stdout",
          "text": [
            "schooled\n"
          ]
        }
      ],
      "source": [
        "s1 = \"shoe\"\n",
        "s2 = \"cold\"\n",
        "ans = \"\"\n",
        "for i, j in zip(s1, s2):\n",
        "  ans += i + j\n",
        "print(ans)"
      ]
    }
  ]
}