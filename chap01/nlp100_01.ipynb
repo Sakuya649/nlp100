{
  "nbformat": 4,
  "nbformat_minor": 0,
  "metadata": {
    "colab": {
      "name": "nlp100_01.ipynb",
      "provenance": [],
      "authorship_tag": "ABX9TyOpTp+cTezA77TKWCCukC9x"
    },
    "kernelspec": {
      "name": "python3",
      "display_name": "Python 3"
    },
    "language_info": {
      "name": "python"
    }
  },
  "cells": [
    {
      "cell_type": "code",
      "execution_count": 2,
      "metadata": {
        "colab": {
          "base_uri": "https://localhost:8080/"
        },
        "id": "KXkNazGzFdI8",
        "outputId": "09085054-636c-4764-8dd4-ecb6a403128a"
      },
      "outputs": [
        {
          "output_type": "stream",
          "name": "stdout",
          "text": [
            "shoe\n"
          ]
        }
      ],
      "source": [
        "s = \"schooled\"\n",
        "print(s[::2])"
      ]
    }
  ]
}