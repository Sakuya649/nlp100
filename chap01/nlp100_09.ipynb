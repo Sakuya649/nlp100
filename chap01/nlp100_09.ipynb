{
  "nbformat": 4,
  "nbformat_minor": 0,
  "metadata": {
    "colab": {
      "name": "nlp100_09.ipynb",
      "provenance": [],
      "authorship_tag": "ABX9TyOAcGdAFhzuMSINK/yrqbeJ"
    },
    "kernelspec": {
      "name": "python3",
      "display_name": "Python 3"
    },
    "language_info": {
      "name": "python"
    }
  },
  "cells": [
    {
      "cell_type": "code",
      "execution_count": 9,
      "metadata": {
        "colab": {
          "base_uri": "https://localhost:8080/"
        },
        "id": "ZvVihtxKWmow",
        "outputId": "7d9714d8-e3fd-4a6f-de47-f84af40e71aa"
      },
      "outputs": [
        {
          "output_type": "stream",
          "name": "stdout",
          "text": [
            "I clodnu’t beeilve that I cuold alucalty uenrtasndd what I was radineg : the pmnhneaoel pewor of the haumn mind . \n"
          ]
        }
      ],
      "source": [
        "import random\n",
        "def shuffle(text):\n",
        "  ans = \"\"\n",
        "  words = text.split()\n",
        "  for word in words:\n",
        "    if len(word) > 4:\n",
        "      letter = list(word)\n",
        "      ans += word[:1] + ''.join(random.sample(word[1:-1], len(word) - 2)) + word[-1:] + \" \"\n",
        "    else:\n",
        "      ans += word + \" \"\n",
        "  return ans\n",
        "\n",
        "text = \"I couldn’t believe that I could actually understand what I was reading : the phenomenal power of the human mind .\"\n",
        "print(shuffle(text))"
      ]
    }
  ]
}