{
  "nbformat": 4,
  "nbformat_minor": 0,
  "metadata": {
    "colab": {
      "name": "nlp100_00.ipynb",
      "provenance": [],
      "authorship_tag": "ABX9TyNZM5GUeP5ewHXu5TjHjhWU"
    },
    "kernelspec": {
      "name": "python3",
      "display_name": "Python 3"
    },
    "language_info": {
      "name": "python"
    }
  },
  "cells": [
    {
      "cell_type": "code",
      "execution_count": 2,
      "metadata": {
        "colab": {
          "base_uri": "https://localhost:8080/"
        },
        "id": "0V1clf1XDNfR",
        "outputId": "2c68db1b-3b4c-4af5-fd07-8d13c2b97190"
      },
      "outputs": [
        {
          "output_type": "stream",
          "name": "stdout",
          "text": [
            "desserts\n"
          ]
        }
      ],
      "source": [
        "s = \"stressed\"\n",
        "print(s[::-1])"
      ]
    }
  ]
}