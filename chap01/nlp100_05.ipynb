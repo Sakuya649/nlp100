{
  "nbformat": 4,
  "nbformat_minor": 0,
  "metadata": {
    "colab": {
      "name": "nlp100_05.ipynb",
      "provenance": [],
      "authorship_tag": "ABX9TyNoFFHAtQeQYVfIz/x5kR30"
    },
    "kernelspec": {
      "name": "python3",
      "display_name": "Python 3"
    },
    "language_info": {
      "name": "python"
    }
  },
  "cells": [
    {
      "cell_type": "code",
      "execution_count": 2,
      "metadata": {
        "colab": {
          "base_uri": "https://localhost:8080/"
        },
        "id": "e5RMz4mwxSfz",
        "outputId": "f9fda6a3-3750-4e89-9c0a-a50847f452a9"
      },
      "outputs": [
        {
          "output_type": "stream",
          "name": "stdout",
          "text": [
            "word bi-grams [('I', 'am'), ('am', 'an'), ('an', 'NLPer')]\n",
            "letter bi-grams [('I', ' '), (' ', 'a'), ('a', 'm'), ('m', ' '), (' ', 'a'), ('a', 'n'), ('n', ' '), (' ', 'N'), ('N', 'L'), ('L', 'P'), ('P', 'e'), ('e', 'r')]\n"
          ]
        }
      ],
      "source": [
        "def create_ngram(n, str_list):\n",
        "  ans = list(zip(*[str_list[i:] for i in range(n)]))\n",
        "  return ans\n",
        "\n",
        "s = \"I am an NLPer\"\n",
        "letter_list = [a for a in s]\n",
        "word_list = s.split()\n",
        "print(\"word bi-grams\",create_ngram(2, word_list))\n",
        "print(\"letter bi-grams\",create_ngram(2, letter_list))"
      ]
    }
  ]
}